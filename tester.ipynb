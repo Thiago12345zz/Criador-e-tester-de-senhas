{
 "cells": [
  {
   "cell_type": "code",
   "execution_count": null,
   "metadata": {},
   "outputs": [],
   "source": [
    "import creator\n",
    "from creator import senhaescolhida\n",
    "from creator import color\n",
    "import string as st\n",
    "from selenium import webdriver\n",
    "import time\n",
    "\n",
    "\n",
    "def website():\n",
    "    while True:\n",
    "        navegador = webdriver.Chrome()\n",
    "        navegador.get(\"https://password.kaspersky.com/pt/\")\n",
    "        navegador.maximize_window()\n",
    "        quit = print(str(input('Aperte enter para fechar o site: ')))\n",
    "        if quit == '':\n",
    "            navegador.quit()\n",
    "            print('Finished!')\n",
    "            break\n",
    "    \n",
    "def contagem_regressiva(x):\n",
    "    while x > 0:\n",
    "        print(f\"Em {x}.\")\n",
    "        time.sleep(1)\n",
    "        x -= 1\n",
    "    website()\n",
    "\n",
    "def login():\n",
    "    dsenha = str(input(\"Digite sua senha escolhida:\"))\n",
    "    if dsenha == senhaescolhida:\n",
    "        print(f'{color['Blue']}Acesso permitido{color['Reset']}')\n",
    "        print(\"Iremos te direcionar para uma pagina web, para testar a potencia de sua senha!!!!!!!!!!!!!!!!!!!!!!!\")\n",
    "        contagem_regressiva(5)\n",
    "        \n",
    "    elif dsenha != senhaescolhida:\n",
    "        print(f'{color['Red']}Acesso negado{color['Reset']}')\n",
    "        \n",
    "login()"
   ]
  }
 ],
 "metadata": {
  "kernelspec": {
   "display_name": "Python 3",
   "language": "python",
   "name": "python3"
  },
  "language_info": {
   "name": "python",
   "version": "3.13.0"
  }
 },
 "nbformat": 4,
 "nbformat_minor": 2
}
